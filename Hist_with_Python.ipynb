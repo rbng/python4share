{
 "cells": [
  {
   "cell_type": "markdown",
   "metadata": {},
   "source": [
    "# Making histograms with Python Pandas\n",
    "\n",
    "The first step in the quantitative description of a collection of data consists in the set of all measures that can be performed analysing a single variable of interest. This is the domain of univariate statistical analysis. \n",
    "\n",
    "The most common measures refer to the central tendency (mean, median, mode) and to the dispersion (range, variance, standard deviation, etc.). However,  these measures cannot be sufficient for a complete characterisation of a dataset. For instance, let us suppose that we draw a sample of N customers and we would like to report some \"key\" features of related portfolios. After assessing the average and the median portfolio value for each customer or the range of ages of the sample, it could be interesting to see how many clients are distributed over the age, and how the amounts are distributed over geographic areas, professions, etc. \n",
    "\n",
    "In other words, histograms have to be produced. And the clearer they are the more informational the report will be. \n",
    "In this note, we will present some Python tools\\&tricks to produce enjoyable plots and histograms to show in reports and articles."
   ]
  },
  {
   "cell_type": "code",
   "execution_count": 1,
   "metadata": {
    "collapsed": true
   },
   "outputs": [],
   "source": [
    "import numpy as np\n",
    "import pandas as pd\n",
    "import matplotlib.pyplot as plt"
   ]
  },
  {
   "cell_type": "code",
   "execution_count": 4,
   "metadata": {
    "collapsed": true
   },
   "outputs": [],
   "source": [
    "N = 1000"
   ]
  },
  {
   "cell_type": "code",
   "execution_count": 11,
   "metadata": {
    "collapsed": false
   },
   "outputs": [
    {
     "name": "stdout",
     "output_type": "stream",
     "text": [
      "['ID0', 'ID1', 'ID2', 'ID3', 'ID4', 'ID5', 'ID6', 'ID7', 'ID8', 'ID9']\n"
     ]
    }
   ],
   "source": [
    "idcli = map(str.__add__,['ID']*N, np.array(range(N), str))\n",
    "print idcli[0:10]"
   ]
  },
  {
   "cell_type": "code",
   "execution_count": 6,
   "metadata": {
    "collapsed": true
   },
   "outputs": [],
   "source": [
    "age = np.random.randint(20,80,N)"
   ]
  },
  {
   "cell_type": "code",
   "execution_count": 7,
   "metadata": {
    "collapsed": true
   },
   "outputs": [],
   "source": [
    "geo = np.array(np.random.randint(1,9,N), str)\n",
    "\n",
    "geo_value = ['1', '2', '3', '4', '5', '6', '7', '8']\n",
    "geo_area = ['N', 'E', 'S', 'W', 'NE', 'SE', 'SW', 'NW']\n",
    "\n",
    "for j in range(len(geo_value)):\n",
    "    geo[geo == geo_value[j]] = geo_area[j]"
   ]
  },
  {
   "cell_type": "code",
   "execution_count": 8,
   "metadata": {
    "collapsed": true
   },
   "outputs": [],
   "source": [
    "ctv = np.array(np.random.normal(100000,30000,N), int)\n",
    "ctv[ctv <= 0] = np.random.randint(1,100000,1)"
   ]
  },
  {
   "cell_type": "code",
   "execution_count": 9,
   "metadata": {
    "collapsed": true
   },
   "outputs": [],
   "source": [
    "ninstr = np.array(np.random.normal(20,8,N), int)\n",
    "ninstr[ninstr <= 0] = np.random.randint(1,30,1)"
   ]
  },
  {
   "cell_type": "code",
   "execution_count": 2,
   "metadata": {
    "collapsed": true
   },
   "outputs": [],
   "source": [
    "df = pd.DataFrame({'ID': idcli, 'AGE': age, 'GEO': geo, 'N_INSTR': ninstr, 'AMOUNT': ctv})"
   ]
  },
  {
   "cell_type": "code",
   "execution_count": 12,
   "metadata": {
    "collapsed": false
   },
   "outputs": [
    {
     "data": {
      "text/html": [
       "<div>\n",
       "<table border=\"1\" class=\"dataframe\">\n",
       "  <thead>\n",
       "    <tr style=\"text-align: right;\">\n",
       "      <th></th>\n",
       "      <th>AGE</th>\n",
       "      <th>AMOUNT</th>\n",
       "      <th>GEO</th>\n",
       "      <th>ID</th>\n",
       "      <th>N_INSTR</th>\n",
       "    </tr>\n",
       "  </thead>\n",
       "  <tbody>\n",
       "    <tr>\n",
       "      <th>0</th>\n",
       "      <td>43</td>\n",
       "      <td>156380</td>\n",
       "      <td>SE</td>\n",
       "      <td>ID0</td>\n",
       "      <td>13</td>\n",
       "    </tr>\n",
       "    <tr>\n",
       "      <th>1</th>\n",
       "      <td>43</td>\n",
       "      <td>169853</td>\n",
       "      <td>NE</td>\n",
       "      <td>ID1</td>\n",
       "      <td>23</td>\n",
       "    </tr>\n",
       "    <tr>\n",
       "      <th>2</th>\n",
       "      <td>25</td>\n",
       "      <td>98511</td>\n",
       "      <td>S</td>\n",
       "      <td>ID2</td>\n",
       "      <td>3</td>\n",
       "    </tr>\n",
       "    <tr>\n",
       "      <th>3</th>\n",
       "      <td>42</td>\n",
       "      <td>87769</td>\n",
       "      <td>S</td>\n",
       "      <td>ID3</td>\n",
       "      <td>16</td>\n",
       "    </tr>\n",
       "    <tr>\n",
       "      <th>4</th>\n",
       "      <td>77</td>\n",
       "      <td>113729</td>\n",
       "      <td>SE</td>\n",
       "      <td>ID4</td>\n",
       "      <td>22</td>\n",
       "    </tr>\n",
       "    <tr>\n",
       "      <th>5</th>\n",
       "      <td>20</td>\n",
       "      <td>46836</td>\n",
       "      <td>NW</td>\n",
       "      <td>ID5</td>\n",
       "      <td>18</td>\n",
       "    </tr>\n",
       "    <tr>\n",
       "      <th>6</th>\n",
       "      <td>27</td>\n",
       "      <td>81383</td>\n",
       "      <td>E</td>\n",
       "      <td>ID6</td>\n",
       "      <td>28</td>\n",
       "    </tr>\n",
       "    <tr>\n",
       "      <th>7</th>\n",
       "      <td>53</td>\n",
       "      <td>128798</td>\n",
       "      <td>W</td>\n",
       "      <td>ID7</td>\n",
       "      <td>42</td>\n",
       "    </tr>\n",
       "    <tr>\n",
       "      <th>8</th>\n",
       "      <td>50</td>\n",
       "      <td>70854</td>\n",
       "      <td>SE</td>\n",
       "      <td>ID8</td>\n",
       "      <td>22</td>\n",
       "    </tr>\n",
       "    <tr>\n",
       "      <th>9</th>\n",
       "      <td>64</td>\n",
       "      <td>98328</td>\n",
       "      <td>SE</td>\n",
       "      <td>ID9</td>\n",
       "      <td>12</td>\n",
       "    </tr>\n",
       "  </tbody>\n",
       "</table>\n",
       "</div>"
      ],
      "text/plain": [
       "   AGE  AMOUNT GEO   ID  N_INSTR\n",
       "0   43  156380  SE  ID0       13\n",
       "1   43  169853  NE  ID1       23\n",
       "2   25   98511   S  ID2        3\n",
       "3   42   87769   S  ID3       16\n",
       "4   77  113729  SE  ID4       22\n",
       "5   20   46836  NW  ID5       18\n",
       "6   27   81383   E  ID6       28\n",
       "7   53  128798   W  ID7       42\n",
       "8   50   70854  SE  ID8       22\n",
       "9   64   98328  SE  ID9       12"
      ]
     },
     "execution_count": 12,
     "metadata": {},
     "output_type": "execute_result"
    }
   ],
   "source": [
    "df[0:10]"
   ]
  },
  {
   "cell_type": "code",
   "execution_count": null,
   "metadata": {
    "collapsed": true
   },
   "outputs": [],
   "source": []
  }
 ],
 "metadata": {
  "kernelspec": {
   "display_name": "Python 2",
   "language": "python",
   "name": "python2"
  },
  "language_info": {
   "codemirror_mode": {
    "name": "ipython",
    "version": 2
   },
   "file_extension": ".py",
   "mimetype": "text/x-python",
   "name": "python",
   "nbconvert_exporter": "python",
   "pygments_lexer": "ipython2",
   "version": "2.7.11"
  }
 },
 "nbformat": 4,
 "nbformat_minor": 0
}
